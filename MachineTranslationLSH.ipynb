{
  "nbformat": 4,
  "nbformat_minor": 0,
  "metadata": {
    "colab": {
      "provenance": []
    },
    "kernelspec": {
      "name": "python3",
      "display_name": "Python 3"
    },
    "language_info": {
      "name": "python"
    }
  },
  "cells": [
    {
      "cell_type": "markdown",
      "source": [
        "## Aim \n",
        "\n",
        "The aim of this colab is to familiarise with the following concepts:\n",
        "* Word embeddings for English and French .\n",
        "  * Generate word embeddings.\n",
        "  * Determine the transformation matrices  (X.**R**= Y)\n",
        "\n",
        "* Translations\n",
        "  * Linear translations.\n",
        "  * Testing the linear translation function.\n",
        "\n",
        "* LSH and document search .\n",
        "  * Getting the document embeddings .\n",
        "  * Looking up the tweets.\n",
        "  * Finding the most similar tweets using LSH.\n",
        "  * Find the hash value of the tweet.\n",
        "  * create a hash table.\n",
        "  * Create all hash tables"
      ],
      "metadata": {
        "id": "64EKLny4NBHZ"
      }
    },
    {
      "cell_type": "code",
      "source": [
        "# download the important libraries\n",
        "import nltk\n",
        "nltk.download('stopwords')\n",
        "nltk.download('twitter_samples')"
      ],
      "metadata": {
        "colab": {
          "base_uri": "https://localhost:8080/"
        },
        "id": "xIOH4UFyOmbr",
        "outputId": "da750475-ab19-4577-bd43-15cc4ab7208b"
      },
      "execution_count": null,
      "outputs": [
        {
          "output_type": "stream",
          "name": "stderr",
          "text": [
            "[nltk_data] Downloading package stopwords to /root/nltk_data...\n",
            "[nltk_data]   Unzipping corpora/stopwords.zip.\n",
            "[nltk_data] Downloading package twitter_samples to /root/nltk_data...\n",
            "[nltk_data]   Unzipping corpora/twitter_samples.zip.\n"
          ]
        },
        {
          "output_type": "execute_result",
          "data": {
            "text/plain": [
              "True"
            ]
          },
          "metadata": {},
          "execution_count": 1
        }
      ]
    },
    {
      "cell_type": "code",
      "source": [
        "# Mount the drive to access the relevant data \n",
        "\n",
        "from google.colab import drive\n",
        "drive.mount('/content/gdrive')\n"
      ],
      "metadata": {
        "colab": {
          "base_uri": "https://localhost:8080/"
        },
        "id": "jVwmAy4sGJsP",
        "outputId": "c45c6686-6cea-484c-b928-25b1fc9fccfc"
      },
      "execution_count": null,
      "outputs": [
        {
          "output_type": "stream",
          "name": "stdout",
          "text": [
            "Mounted at /content/gdrive\n"
          ]
        }
      ]
    },
    {
      "cell_type": "code",
      "source": [],
      "metadata": {
        "id": "URgplULkp9nH"
      },
      "execution_count": null,
      "outputs": []
    },
    {
      "cell_type": "code",
      "source": [
        "import pdb\n",
        "import pickle\n",
        "import string\n",
        "import re\n",
        "import pandas as pd\n",
        "import time\n",
        "\n",
        "import gensim\n",
        "import matplotlib.pyplot as plt\n",
        "import nltk\n",
        "import numpy as np\n",
        "import scipy\n",
        "import sklearn\n",
        "from gensim.models import KeyedVectors\n",
        "from nltk.corpus import stopwords, twitter_samples\n",
        "from nltk.tokenize import TweetTokenizer\n",
        "from nltk.corpus import stopwords\n",
        "from nltk.stem import PorterStemmer\n",
        "\n",
        "from os import getcwd"
      ],
      "metadata": {
        "id": "TPzr02f8XWKS"
      },
      "execution_count": null,
      "outputs": []
    },
    {
      "cell_type": "code",
      "source": [
        "# define some utility functions like to calculate cosine_similarity, process_tweet -> to preprocess the tweet\n",
        "\n",
        "def process_tweet(tweet):\n",
        "    \n",
        "    stemmer = PorterStemmer()\n",
        "    stopwords_english = stopwords.words('english')\n",
        "    # remove stock market tickers like $GE\n",
        "    tweet = re.sub(r'\\$\\w*', '', tweet)\n",
        "    # remove old style retweet text \"RT\"\n",
        "    tweet = re.sub(r'^RT[\\s]+', '', tweet)\n",
        "    # remove hyperlinks\n",
        "    tweet = re.sub(r'https?:\\/\\/.*[\\r\\n]*', '', tweet)\n",
        "    # remove hashtags\n",
        "    # only removing the hash # sign from the word\n",
        "    tweet = re.sub(r'#', '', tweet)\n",
        "    # tokenize tweets\n",
        "    tokenizer = TweetTokenizer(preserve_case=False, strip_handles=True,\n",
        "                               reduce_len=True)\n",
        "    tweet_tokens = tokenizer.tokenize(tweet)\n",
        "\n",
        "    tweets_clean = []\n",
        "    for word in tweet_tokens:\n",
        "        if (word not in stopwords_english and  # remove stopwords\n",
        "            word not in string.punctuation):  # remove punctuation\n",
        "            # tweets_clean.append(word)\n",
        "            stem_word = stemmer.stem(word)  # stemming word\n",
        "            tweets_clean.append(stem_word)\n",
        "\n",
        "    return tweets_clean\n",
        "\n",
        "\n",
        "#this function would store the corresponding French word with an English word.\n",
        "def get_dict(file_name):\n",
        "    \"\"\"\n",
        "    This function returns the english to french dictionary given a file where the each column corresponds to a word.\n",
        "    Check out the files this function takes in your workspace.\n",
        "    \"\"\"\n",
        "    my_file = pd.read_csv(file_name, delimiter=' ')\n",
        "    etof = {}  # the english to french dictionary to be returned\n",
        "    for i in range(len(my_file)):\n",
        "        # indexing into the rows.\n",
        "        en = my_file.loc[i][0]\n",
        "        fr = my_file.loc[i][1]\n",
        "        etof[en] = fr\n",
        "\n",
        "    return etof\n",
        "\n",
        "# Defining the cosing similarity function to generate cosine relation \n",
        "def cosine_similarity(A, B):\n",
        "    \n",
        "    # you have to set this variable to the true label.\n",
        "    cos = -10\n",
        "    dot = np.dot(A, B)\n",
        "    norma = np.linalg.norm(A)\n",
        "    normb = np.linalg.norm(B)\n",
        "    cos = dot / (norma * normb)\n",
        "\n",
        "    return "
      ],
      "metadata": {
        "id": "8qxmjAS1brbK"
      },
      "execution_count": null,
      "outputs": []
    },
    {
      "cell_type": "code",
      "source": [
        "# Code cells [10-16] are to process the embeddings data for French and English and convert into a dictionary \n",
        "from gensim.models import KeyedVectors\n",
        "\n",
        "fr_embeddings = KeyedVectors.load_word2vec_format('/content/gdrive/My Drive/wiki.multi.fr.vec')\n",
        "en_embeddings = KeyedVectors.load_word2vec_format('/content/gdrive/My Drive/GoogleNews-vectors-negative300.bin', binary = True)"
      ],
      "metadata": {
        "id": "BCGKRpPNs31B"
      },
      "execution_count": null,
      "outputs": []
    },
    {
      "cell_type": "code",
      "source": [
        "en_fr_train = get_dict('/content/gdrive/My Drive/en-fr.train.txt')\n",
        "print('The length of the english to french training dictionary is', len(en_fr_train))\n",
        "en_fr_test = get_dict('/content/gdrive/My Drive/en-fr.test.txt')\n",
        "print('The length of the english to french test dictionary is', len(en_fr_test))"
      ],
      "metadata": {
        "colab": {
          "base_uri": "https://localhost:8080/"
        },
        "id": "frJKNa_TGlyX",
        "outputId": "5aea6fcf-7c43-4a44-a2d2-fb692171e906"
      },
      "execution_count": null,
      "outputs": [
        {
          "output_type": "stream",
          "name": "stdout",
          "text": [
            "The length of the english to french training dictionary is 5000\n",
            "The length of the english to french test dictionary is 1500\n"
          ]
        }
      ]
    },
    {
      "cell_type": "code",
      "source": [
        "english_set = set(en_embeddings.vocab)\n",
        "french_set = set(fr_embeddings.vocab)\n",
        "en_embeddings_subset = {}\n",
        "fr_embeddings_subset = {}\n",
        "french_words = set(en_fr_train.values())"
      ],
      "metadata": {
        "id": "WqhT2PoWJjFv"
      },
      "execution_count": null,
      "outputs": []
    },
    {
      "cell_type": "code",
      "source": [
        "for en_word in en_fr_train.keys():\n",
        "    fr_word = en_fr_train[en_word]\n",
        "    if fr_word in french_set and en_word in english_set:\n",
        "        en_embeddings_subset[en_word] = en_embeddings[en_word]\n",
        "        fr_embeddings_subset[fr_word] = fr_embeddings[fr_word]\n",
        "\n",
        "\n",
        "for en_word in en_fr_test.keys():\n",
        "    fr_word = en_fr_test[en_word]\n",
        "    if fr_word in french_set and en_word in english_set:\n",
        "        en_embeddings_subset[en_word] = en_embeddings[en_word]\n",
        "        fr_embeddings_subset[fr_word] = fr_embeddings[fr_word]"
      ],
      "metadata": {
        "id": "hEfzTF-9J0oW"
      },
      "execution_count": null,
      "outputs": []
    },
    {
      "cell_type": "code",
      "source": [
        "pickle.dump( en_embeddings_subset, open( \"/content/gdrive/My Drive/en_embeddings.p\", \"wb\" ) )\n",
        "pickle.dump( fr_embeddings_subset, open( \"/content/gdrive/My Drive/fr_embeddings.p\", \"wb\" ) )"
      ],
      "metadata": {
        "id": "vkbFd1qFKK4k"
      },
      "execution_count": null,
      "outputs": []
    },
    {
      "cell_type": "markdown",
      "source": [
        "After processing of the data, now we load the English and French embeddings subset data that we created \n"
      ],
      "metadata": {
        "id": "lrh7fflDLxXm"
      }
    },
    {
      "cell_type": "code",
      "source": [
        "\n",
        "en_embeddings_subset = pickle.load(open(\"/content/gdrive/My Drive/en_embeddings.p\", \"rb\"))\n",
        "fr_embeddings_subset = pickle.load(open(\"/content/gdrive/My Drive/fr_embeddings.p\", \"rb\"))"
      ],
      "metadata": {
        "id": "nNIbD-FmMDm9"
      },
      "execution_count": null,
      "outputs": []
    },
    {
      "cell_type": "code",
      "source": [
        "en_fr_train = get_dict('/content/gdrive/My Drive/en-fr.train.txt')\n",
        "print('The length of the English to French training dictionary is', len(en_fr_train))\n",
        "en_fr_test = get_dict('/content/gdrive/My Drive/en-fr.test.txt')\n",
        "print('The length of the English to French test dictionary is', len(en_fr_test))"
      ],
      "metadata": {
        "colab": {
          "base_uri": "https://localhost:8080/"
        },
        "id": "vn2Xr0VqMKgc",
        "outputId": "c5d535e2-a0b9-488b-80c7-ef766ebf1923"
      },
      "execution_count": null,
      "outputs": [
        {
          "output_type": "stream",
          "name": "stdout",
          "text": [
            "The length of the English to French training dictionary is 5000\n",
            "The length of the English to French test dictionary is 1500\n"
          ]
        }
      ]
    },
    {
      "cell_type": "markdown",
      "source": [
        "## Generate Embedding and transform matrix \n",
        "\n",
        "Now we would be implementing the get_matrices function which would take the following as inputs and load matrices X and Y\n",
        "* en_fr : English to French dictionary \n",
        "* en_embeddings : English to embeddings dictionary\n",
        "* fr_embeddings : French to embeddings dictionary \n",
        "\n",
        "Returns : Matrix X and matrix Y, where each row in X is the word embedding for an\n",
        "english word, and the same row in Y is the word embedding for the French version of that English word."
      ],
      "metadata": {
        "id": "BZf44CEsN_YN"
      }
    },
    {
      "cell_type": "code",
      "source": [
        "def get_matrices(en_fr, french_vecs, english_vecs):\n",
        "    \"\"\"\n",
        "    Input:\n",
        "        en_fr: English to French dictionary\n",
        "        french_vecs: French words to their corresponding word embeddings.\n",
        "        english_vecs: English words to their corresponding word embeddings.\n",
        "    Output: \n",
        "        X: a matrix where the columns are the English embeddings.\n",
        "        Y: a matrix where the columns correspong to the French embeddings.\n",
        "        R: the projection matrix that minimizes the F norm ||X R -Y||^2.\n",
        "    \"\"\"\n",
        "\n",
        "    ### START CODE HERE (REPLACE INSTANCES OF 'None' with your code) ###\n",
        "\n",
        "    # X_l and Y_l are lists of the english and french word embeddings\n",
        "    X_l = list()\n",
        "    Y_l = list()\n",
        "\n",
        "    # get the english words (the keys in the dictionary) and store in a set()\n",
        "    english_set = english_vecs.keys()\n",
        "\n",
        "    # get the french words (keys in the dictionary) and store in a set()\n",
        "    french_set = french_vecs.keys()\n",
        "\n",
        "    # store the french words that are part of the english-french dictionary (these are the values of the dictionary)\n",
        "    french_words = set(en_fr.values())\n",
        "\n",
        "    # loop through all english, french word pairs in the english french dictionary\n",
        "    for en_word, fr_word in en_fr.items():\n",
        "\n",
        "        # check that the french word has an embedding and that the english word has an embedding\n",
        "        if fr_word in french_set and en_word in english_set:\n",
        "\n",
        "            # get the english embedding\n",
        "            en_vec = english_vecs[en_word]\n",
        "\n",
        "            # get the french embedding\n",
        "            fr_vec = french_vecs[fr_word]\n",
        "\n",
        "            # add the english embedding to the list\n",
        "            X_l.append(en_vec)\n",
        "\n",
        "            # add the french embedding to the list\n",
        "            Y_l.append(fr_vec)\n",
        "\n",
        "    # stack the vectors of X_l into a matrix X\n",
        "    X = np.array(X_l)\n",
        "\n",
        "    # stack the vectors of Y_l into a matrix Y\n",
        "    Y = np.array(Y_l)\n",
        "    ### END CODE HERE ###\n",
        "\n",
        "    return X, Y"
      ],
      "metadata": {
        "id": "8V64ntWoSkm1"
      },
      "execution_count": null,
      "outputs": []
    },
    {
      "cell_type": "code",
      "source": [
        "# get the training set matrix\n",
        "X_train, Y_train = get_matrices(\n",
        "    en_fr_train, fr_embeddings_subset, en_embeddings_subset)"
      ],
      "metadata": {
        "id": "vffObNrlUrNe"
      },
      "execution_count": null,
      "outputs": []
    },
    {
      "cell_type": "markdown",
      "source": [
        "## Translations \n",
        "Convert English to French words using vector space models\n",
        "### Translation as linear transformation of embeddings\n",
        "Given dictionaries of English and French word embeddings you will create a transformation matrix R\n",
        "\n",
        "* Given an English word embedding, e we can multiply eR to get a new word embedding f.\n",
        "* e and f are row vectors\n",
        "* We can then compute the nearest neighbors to f in the french embeddings and recommend the word that is most similar to the transformed word embedding.\n",
        "\n",
        "### Describing translation as the minimization problem \n",
        "![image.png](data:image/png;base64,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)\n",
        "\n",
        "Frobenius norm \n",
        "\n",
        "![image.png](data:image/png;base64,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)"
      ],
      "metadata": {
        "id": "EnomPiOOVKk0"
      }
    },
    {
      "cell_type": "markdown",
      "source": [
        "### Actual Loss Function \n",
        "![image.png](data:image/png;base64,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)\n",
        "\n",
        "![image.png](data:image/png;base64,iVBORw0KGgoAAAANSUhEUgAAAI4AAAA8CAYAAACw/4J2AAAAAXNSR0IArs4c6QAAAARnQU1BAACxjwv8YQUAAAAJcEhZcwAAEnQAABJ0Ad5mH3gAAAnHSURBVHhe7Z19TJTJHce/rSZrvIRL/9jLpWGjoD0je9fgmoOuMYppdRNblvoSYtxATgqplLu6dGOwgO6tnoR6bqG6lHigtSKtXjkta2vcay6uyQVqDGtiXdtTJCdLcheeXBu2iWETzdPfPM/si5zIwwNlXZkPmTzz9jz7zPCdmd+8LHxDJiAQTJNv8qtAMC2EcAS6EMIR6EIIR6ALIRyBLoRwBLoQwhHoYnaE8ziG6EPuF8wLZiachxIGg52o/sFK5J8M8UjBfECncEJoy83F+jInmjp6EXjAowXzBp3CsaBmaAjXPurGr3Zk8zjBfEIYxwJdCOEIdCGEI9CFEI5AF0I4Al0I4cxrIgg2V8NRvh3rCzeh4ng/ojxlKoRw5jGRc274XqrCqTM9ONuYh3CLA86eCE99NkI485YwAmeDyCJfjJypuBzlRiB4OkApUzNj4Yw/4p74ddqE0VboREDiQSkAZ2GbppcXTI502YnC9mQthtsL4bwcr2SGAYaXjQj/vR9hZXwywfQmXe5EIGkYr3QKR91yyGXbDq6AGnV8uxLOza2G/0s1ShukdymG2GMefEx+Kh9rBSrJz3qaq75EmW+2PTUtN7eN7mZI8L/9tPQn3fptDlTv74T/ZmoFzxFf+lH9lHeKO6WcCSYpz9t+SuFQPUqPkrUYeyQl61hhOcq6r+N6dw2sSrcziHs36FpkRjYLTwX7lkN6GZB9Obvl3i948IteeXeOj2KTjI+NyWNjo3LfsW1yTk4Od9vkjhDFj1OGR+OUPiz3/lKN9/WNUpjdwxJV1GeMyVePxO8nd+Qqz0cuMiCfP7RTLuBp6/b2ysOP+M1zAisDe5dh+UpjQfIdc3bJZ25RfLIoCqw8t0/vovQCec+Fe/zeZKZR/24551iyFgeO5ci7/aM89HWGL1D+gl1yR3jCB01CRtg4hqwsZGUZYf1JPVyreCT1JU3Hr2DMQN4FBsQ+9eLwOWowTS2osRopP7uHJaqozyC3iEcwFvE45rItKG1sRcNmNSnS40Tt7+dywDTwdzHBVnMQdrI3VILwnQ6q5UzB8LAfHb8NwrjlIBq2LOf3TsikkRj12LVnX0HrH9pRmaftGZllHC+2oPJdFyw8iOA+1J6iX+6IH4c9fmBLKzw7TDxRD0Zkr+BeInSBxn/un1NetaHBbae3UZEuHob3CftEQuD9A/DDjoZaWyKfHmJ3OuE8OQ7XbzywL4sh1BPAYHKEm5SMm1UZ3qiEZ29COgi954aj7jCvRDuZeLMI2V7pwrjZRT1JQjrwe3wI/kcNRT/x4cBFCbZ9LthncjiBGlzdrj68XryGuth+9Ac/RMfpCGIaOp2MEw7r0s0VnieGrP5+wO5umFklKkQRHeVewrjdQiZkujDBXtsAGw9B6kLdiX7EaIjy1XdB2tyK+i0zaSaD6NrjhF8KwlvtgMNBrqIJgTyaXfEczyIDhUMYzKg5VJ8csqhFjjwYTZmJ6SAWRfiSF75uNWi0utBeYyWZppFsO+qbiniASvmBE5t+6ESnVITmvTPtXWlW9dEQhoYmuCM2ZW1nKjJTOIylFljzuJ8Ive9G5z+mKZ2W+BICuZX5KN7TRf0XVaj3Y/yNpqmWxTxfGjHt8KA5oR0JkQcSLI0ulC7hUWkiQ4VDRtwJN9ruULeaqMAQvO92Ijwd7dT2JFraP6+28pkMdeHNbnTd1PYgNptzlFM3r9Xt+ZA+YTqYUPqzGu5n1KC+wsz96WPSv1bBWuH/A/ZLehK2wNcBU1877K9SkC2ErYmgaohavJrha0Q/cWNjVRdMjZfQ8/0wKjbso0mrioXE0P2OZdIhJnQ8F9tbeIAJh/LGiZxzYH09GUwMsiGu+5Izm7TCFji3eXnAhZ5n1E0c6VI1Cj+vSpSPlbtj6XW0F08sURhd5U3oJeM49MAEy9rsRN3FlDgLPFd6UPYaj+RM2uMkxrxZdjOGZgIHuHHYwlreklJ4UuyAUEsTOjX2FhNZ9FLK6H75HrRt92U6ZpSdaUUV01eeDS4y8rrPqK7nr6dQRukm1qAnkGFDVQT+FnXq3bovaRwyO6CVL9yxHsz7XidCM/6e1yBGRlRf9C5NVe9qPXCQgcQGMXCRrktfx/JUy3ixEaa1r+Bp64rPv3DYl/2iNE0mF+52w3lRQtHPq1CUFU3OomIvo+inHiT6nZteNJ3sh6Tcp+aK8WdEx5WgyjiP43mMy1ZT+4oTwJ+vkTXymLryXzjg7A3PbNamB5rpKe839sRL83dOKf9MuRtCL10slmXq0PwgiK5ghJ5PP/82wJCRwrnVifz8fMUV71ctmeD+YgrXIcA3U6WP65Bf4k7YOYxQiwOFyn3U+7CV1nr1GRXtPAOjvUJ9dn2AchB5lejubYVruxXW14z0OZuQ+50K9C7z4FQapuZKudj7VbTxGEYbKpRyJcs/UyLhPiq/GZaVrA+Pov+CF33/XUTltaDmL5UpjSkFZccqrUy9ySmYPto3Ocfkq41sM3WdvK1sp7xz6zplY/X85zx5EjJ0Oi6YPci+YYueRTVoYUZxlwdlq9bAPMU6kRDOfOdOSBniLWtp9sTCi61w/Y7NpZ6NEM48R7o/gDDJZMOq+K4cO94xtTX3HAiHXtJIlvsCHlxAfjLt59oQfeGgejQuTNaiYaExWceMaBDecgeqf81OcI6i92gFHM1Bzd9y0PZ3jmMR+PfXwneL5h4rKtFyqASxc03wXosAXw1i5Nsl8ByshzXmh7f5vLLsL0UkZG/1oPUdq6ZNM0GGoZjIUzD8p13yj07cluUbR5XjjAUFG+U6/7CaGGGzILLKt26Td1Z2yLfH1OjhP+5UjjUe7dN2FFGQWWgYqiLo98dQZjMjfEtdKTG91QJPMV+3XaheMGJG1RGa88e7FwPzSIg+nPNlM8EcoEE4JpT4TqF0SQT3b7CDlDaUF5uTNsjIPbBR0vhWKYq+pUbR2IaRz1hsGTa8KQaqFxFNxrGBWdnR+xhgWshbjWUpJ+3ivVDJGyln5WIh9LG9j82rkz2Q4IVC+6zqfhhX2JXm+0mJSLgfYr2QHatXJC342I2raCM72mazwki9T3wvSPDioFk4kc/YfgZJ5LvLk8NUbBC3L9N17RrkJY55RBH0d9K1FD9ea0Q04MbGE6HZ25ATPBdoFI6EOzfYAScr1phTDgLxXVVzEV91VIhg8BpdbCQmQwhdH4zCVZrms7uCWUejcEYx+CkZwFvKsSFlDyP6FftKgAUl30tdoDbD7i7F8n/5UFvlA2pb034+VjD7iH90JtCFduNYIEhBCEegCyEcgS6EcAS6EMIR6EIIR6ALIRyBLoRwBLoQwhHoQghHoAPgfyNUhOJWu+TuAAAAAElFTkSuQmCC)\n",
        "\n",
        "\n",
        "#### Major anecdotes\n",
        "* The same R is found when using this loss function versus the original Frobenius norm.\n",
        "* The reason for taking the square is that it's easier to compute the gradient of the squared Frobenius.\n",
        "* The reason for dividing by m is that we're more interested in the average loss per embedding than the loss for the entire training set.\n",
        "* The loss for all training set increases with more words (training examples),\n",
        "so taking the average helps us to track the average loss regardless of the size of the training set."
      ],
      "metadata": {
        "id": "MxQNbHPVXAdF"
      }
    },
    {
      "cell_type": "markdown",
      "source": [
        "### Implementation of translation mechanism described in the section \n",
        "#### Step1: Computing the Loss\n",
        "The loss function will be squared Frobenoius norm of the difference between\n",
        "matrix and its approximation, divided by the number of training examples \n",
        ".\n",
        "![image.png](data:image/png;base64,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)\n",
        "\n"
      ],
      "metadata": {
        "id": "RN7XezLNYbvl"
      }
    },
    {
      "cell_type": "code",
      "source": [
        "# define the compute loss function\n",
        "def compute_loss(X, Y, R):\n",
        "    '''\n",
        "    Inputs: \n",
        "        X: a matrix of dimension (m,n) where the columns are the English embeddings.\n",
        "        Y: a matrix of dimension (m,n) where the columns correspong to the French embeddings.\n",
        "        R: a matrix of dimension (n,n) - transformation matrix from English to French vector space embeddings.\n",
        "    Outputs:\n",
        "        L: a matrix of dimension (m,n) - the value of the loss function for given X, Y and R.\n",
        "    '''\n",
        "    ### START CODE HERE (REPLACE INSTANCES OF 'None' with your code) ###\n",
        "    # m is the number of rows in X\n",
        "    m = len(X)\n",
        "    \n",
        "    # diff is XR - Y\n",
        "    diff = np.dot(X,R) - Y\n",
        "\n",
        "    # diff_squared is the element-wise square of the difference\n",
        "    diff_squared = np.square(diff)\n",
        "\n",
        "    # sum_diff_squared is the sum of the squared elements\n",
        "    sum_diff_squared = np.sum(diff_squared)\n",
        "\n",
        "    # loss i the sum_diff_squard divided by the number of examples (m)\n",
        "    loss = sum_diff_squared / m\n",
        "    ### END CODE HERE ###\n",
        "    return loss"
      ],
      "metadata": {
        "id": "Ce4f-AnXUwc9"
      },
      "execution_count": null,
      "outputs": []
    },
    {
      "cell_type": "markdown",
      "source": [
        "### Compute the gradient Loss in respect of transform matrix R\n",
        "* Calculate the gradient of the loss with respect to transform matrix R.\n",
        "* The gradient is a matrix that encodes how much a small change in R.\n",
        "\n",
        "This would give us the gradient direction along which the cost function would minimize with respect to the matrix R .\n",
        "\n",
        "![image.png](data:image/png;base64,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)"
      ],
      "metadata": {
        "id": "rJAcTIsppvOU"
      }
    },
    {
      "cell_type": "code",
      "source": [
        "# Function tot compute the gradient \n",
        "def compute_gradient(X, Y, R):\n",
        "    '''\n",
        "    Inputs: \n",
        "        X: a matrix of dimension (m,n) where the columns are the English embeddings.\n",
        "        Y: a matrix of dimension (m,n) where the columns correspong to the French embeddings.\n",
        "        R: a matrix of dimension (n,n) - transformation matrix from English to French vector space embeddings.\n",
        "    Outputs:\n",
        "        g: a matrix of dimension (n,n) - gradient of the loss function L for given X, Y and R.\n",
        "    '''\n",
        "    ### START CODE HERE (REPLACE INSTANCES OF 'None' with your code) ###\n",
        "    # m is the number of rows in X\n",
        "    m = len(X)\n",
        "\n",
        "    # gradient is X^T(XR - Y) * 2/m\n",
        "    gradient = np.dot(X.T, ( np.dot(X,R) - Y) )\n",
        "    gradient = (2* gradient)/m\n",
        "    ### END CODE HERE ###\n",
        "    return gradient"
      ],
      "metadata": {
        "id": "caHJzzmFq5lj"
      },
      "execution_count": null,
      "outputs": []
    },
    {
      "cell_type": "markdown",
      "source": [
        "## Applying Gradient Descent \n",
        "\n",
        "* Earlier, we've mentioned that the gradient of the loss with respect to the matrix encodes how much a tiny change in some coordinate of that matrix affect the change of loss function.\n",
        "\n",
        "* Gradient descent uses that information to iteratively change matrix R until we reach a point where the loss is minimized.\n",
        "\n",
        "![image.png](data:image/png;base64,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)"
      ],
      "metadata": {
        "id": "sCndOg2wtICy"
      }
    },
    {
      "cell_type": "code",
      "source": [
        "def align_embeddings(X, Y, train_steps=100, learning_rate=0.0003):\n",
        "    '''\n",
        "    Inputs:\n",
        "        X: a matrix of dimension (m,n) where the columns are the English embeddings.\n",
        "        Y: a matrix of dimension (m,n) where the columns correspong to the French embeddings.\n",
        "        train_steps: positive int - describes how many steps will gradient descent algorithm do.\n",
        "        learning_rate: positive float - describes how big steps will  gradient descent algorithm do.\n",
        "    Outputs:\n",
        "        R: a matrix of dimension (n,n) - the projection matrix that minimizes the F norm ||X R -Y||^2\n",
        "    '''\n",
        "    np.random.seed(129)\n",
        "\n",
        "    # the number of columns in X is the number of dimensions for a word vector (e.g. 300)\n",
        "    # R is a square matrix with length equal to the number of dimensions in th  word embedding\n",
        "    R = np.random.rand(X.shape[1], X.shape[1])\n",
        "\n",
        "    for i in range(train_steps):\n",
        "        if i % 25 == 0:\n",
        "            print(f\"loss at iteration {i} is: {compute_loss(X, Y, R):.4f}\")\n",
        "        \n",
        "        # use the function that you defined to compute the gradient\n",
        "        gradient = compute_gradient(X,Y,R)\n",
        "\n",
        "        # update R by subtracting the learning rate times gradient\n",
        "        R -= learning_rate * gradient\n",
        "        ### END CODE HERE ###\n",
        "    return R"
      ],
      "metadata": {
        "id": "pEqcQxR1svRL"
      },
      "execution_count": null,
      "outputs": []
    },
    {
      "cell_type": "code",
      "source": [
        "np.random.seed(129)\n",
        "m = 10\n",
        "n = 5\n",
        "X = np.random.rand(m, n)\n",
        "Y = np.random.rand(m, n)\n",
        "R = align_embeddings(X, Y)"
      ],
      "metadata": {
        "colab": {
          "base_uri": "https://localhost:8080/"
        },
        "id": "j4IHBObGwC_8",
        "outputId": "6fddb353-7b88-4056-8edb-86280e9c0ed2"
      },
      "execution_count": null,
      "outputs": [
        {
          "output_type": "stream",
          "name": "stdout",
          "text": [
            "loss at iteration 0 is: 1.6050\n",
            "loss at iteration 25 is: 1.5753\n",
            "loss at iteration 50 is: 1.5464\n",
            "loss at iteration 75 is: 1.5183\n"
          ]
        }
      ]
    },
    {
      "cell_type": "code",
      "source": [
        "R_train = align_embeddings(X_train, Y_train, train_steps=400, learning_rate=0.8)"
      ],
      "metadata": {
        "colab": {
          "base_uri": "https://localhost:8080/"
        },
        "id": "RRcDdcXd4VWC",
        "outputId": "098bed2d-769d-4ee6-81dc-a9edb2c85a9a"
      },
      "execution_count": null,
      "outputs": [
        {
          "output_type": "stream",
          "name": "stdout",
          "text": [
            "loss at iteration 0 is: 963.0146\n",
            "loss at iteration 25 is: 97.8292\n",
            "loss at iteration 50 is: 26.8329\n",
            "loss at iteration 75 is: 9.7893\n",
            "loss at iteration 100 is: 4.3776\n",
            "loss at iteration 125 is: 2.3281\n",
            "loss at iteration 150 is: 1.4480\n",
            "loss at iteration 175 is: 1.0338\n",
            "loss at iteration 200 is: 0.8251\n",
            "loss at iteration 225 is: 0.7145\n",
            "loss at iteration 250 is: 0.6534\n",
            "loss at iteration 275 is: 0.6185\n",
            "loss at iteration 300 is: 0.5981\n",
            "loss at iteration 325 is: 0.5858\n",
            "loss at iteration 350 is: 0.5782\n",
            "loss at iteration 375 is: 0.5735\n"
          ]
        }
      ]
    },
    {
      "cell_type": "markdown",
      "source": [
        "### Testing the translation\n",
        "\n",
        "## K-Nearest neighbors\n",
        "* k-NN is a method which takes a vector as input and finds the other vectors in the dataset that are closest to it.\n",
        "* The 'k' is the number of \"nearest neighbors\" to find (e.g. k=2 finds the closest two neighbors).\n",
        "\n",
        "## Searching for the nearest translation of the word .\n",
        "\n",
        "When searching for translation of an English word we usually gets an approximate and not the absolute response , the KNN algorithm would help here. We can use N=1 based algorithm here.\n",
        "\n",
        "\n",
        "## Cosine similarity \n",
        "* We can obtain distance metric from cosine similarity, but the cosine similarity can't be used directly as the distance metric.\n",
        "*When the cosine similarity increases (towards \n",
        "1), the \"distance\" between the two vectors decreases .\n",
        "\n",
        "![image.png](data:image/png;base64,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)\n",
        "\n",
        "\n"
      ],
      "metadata": {
        "id": "OduC1fDqeUQZ"
      }
    },
    {
      "cell_type": "code",
      "source": [
        "# Define the nearest_neighbor \n",
        "from numpy.linalg import norm\n",
        "\n",
        "def nearest_neighbor(v, candidates, k=1):\n",
        "    \"\"\"\n",
        "    Input:\n",
        "      - v, the vector you are going find the nearest neighbor for\n",
        "      - candidates: a set of vectors where we will find the neighbors\n",
        "      - k: top k nearest neighbors to find\n",
        "    Output:\n",
        "      - k_idx: the indices of the top k closest vectors in sorted form\n",
        "    \"\"\"\n",
        "    ### START CODE HERE (REPLACE INSTANCES OF 'None' with your code) ###\n",
        "    similarity_l = []\n",
        "\n",
        "    # for each candidate vector...\n",
        "    for row in candidates:\n",
        "        # get the cosine similarity\n",
        "        cos_similarity = np.dot(row,v) / (norm(row) * norm(v))\n",
        "\n",
        "        # append the similarity to the list\n",
        "        similarity_l.append(cos_similarity)\n",
        "\n",
        "    # sort the similarity list and get the indices of the sorted list\n",
        "    sorted_ids = np.argsort(similarity_l)\n",
        "\n",
        "    # get the indices of the k most similar candidate vectors , Remember to pick lowest value based on the distant and the highest based on the cosine similarity\n",
        "    k_idx = sorted_ids[-k:]\n",
        "    ### END CODE HERE ###\n",
        "    return k_idx"
      ],
      "metadata": {
        "id": "TWCswzphoUOt"
      },
      "execution_count": null,
      "outputs": []
    },
    {
      "cell_type": "code",
      "source": [
        "v = np.array([1, 0, 1])\n",
        "candidates = np.array([[1, 0, 5], [-2, 5, 3], [2, 0, 1], [6, -9, 5], [9, 9, 9]])\n",
        "print(candidates[nearest_neighbor(v, candidates, 3)])"
      ],
      "metadata": {
        "colab": {
          "base_uri": "https://localhost:8080/"
        },
        "id": "-PqMBveLsps7",
        "outputId": "dc9ae7c5-b169-476d-fa33-1d8fb989a89d"
      },
      "execution_count": null,
      "outputs": [
        {
          "output_type": "stream",
          "name": "stdout",
          "text": [
            "[[9 9 9]\n",
            " [1 0 5]\n",
            " [2 0 1]]\n"
          ]
        }
      ]
    },
    {
      "cell_type": "markdown",
      "source": [
        "### Testing the translation and compute it's accuracy\n",
        "Now we would be testing the accuracy of the model \n",
        "\n",
        "![image.png](data:image/png;base64,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)"
      ],
      "metadata": {
        "id": "S7sFnVDduAJx"
      }
    },
    {
      "cell_type": "code",
      "source": [
        "def test_vocabulary(X, Y, R):\n",
        "    '''\n",
        "    Input:\n",
        "        X: a matrix where the columns are the English embeddings.\n",
        "        Y: a matrix where the columns correspong to the French embeddings.\n",
        "        R: the transform matrix which translates word embeddings from\n",
        "        English to French word vector space.\n",
        "    Output:\n",
        "        accuracy: for the English to French capitals\n",
        "    '''\n",
        "\n",
        "    ### START CODE HERE (REPLACE INSTANCES OF 'None' with your code) ###\n",
        "    # The prediction is X times R\n",
        "    pred = np.dot(X,R)\n",
        "\n",
        "    # initialize the number correct to zero\n",
        "    num_correct = 0\n",
        "\n",
        "    # loop through each row in pred (each transformed embedding)\n",
        "    for i in range(len(pred)):\n",
        "        # get the index of the nearest neighbor of pred at row 'i'; also pass in the candidates in Y\n",
        "        pred_idx = nearest_neighbor(pred[i],Y)\n",
        "\n",
        "        # if the index of the nearest neighbor equals the row of i... \\\n",
        "        if pred_idx == i:\n",
        "            # increment the number correct by 1.\n",
        "            num_correct += 1\n",
        "\n",
        "    # accuracy is the number correct divided by the number of rows in 'pred' (also number of rows in X)\n",
        "    accuracy = num_correct / len(pred)\n",
        "\n",
        "    ### END CODE HERE ###\n",
        "\n",
        "    return accuracy"
      ],
      "metadata": {
        "id": "BVmsDFwXt-iS"
      },
      "execution_count": null,
      "outputs": []
    },
    {
      "cell_type": "code",
      "source": [
        "X_val, Y_val = get_matrices(en_fr_test, fr_embeddings_subset, en_embeddings_subset)"
      ],
      "metadata": {
        "id": "24cagIDdvniK"
      },
      "execution_count": null,
      "outputs": []
    },
    {
      "cell_type": "code",
      "source": [
        "acc = test_vocabulary(X_val, Y_val, R_train)  # this might take a minute or two\n",
        "print(f\"accuracy on test set is {acc:.3f}\")"
      ],
      "metadata": {
        "colab": {
          "base_uri": "https://localhost:8080/"
        },
        "id": "Qm31zPcdvt_w",
        "outputId": "18540fc0-a1ea-4f55-aff5-cc12402e6bfe"
      },
      "execution_count": null,
      "outputs": [
        {
          "output_type": "stream",
          "name": "stdout",
          "text": [
            "accuracy on test set is 0.557\n"
          ]
        }
      ]
    },
    {
      "cell_type": "markdown",
      "source": [
        "### LSH and Dcoument Search \n",
        "\n",
        "* Now we will implement a better version of KNN with locality sensitive hashing(LSH) .\n",
        "*"
      ],
      "metadata": {
        "id": "z-d6IoZf4JCO"
      }
    },
    {
      "cell_type": "code",
      "source": [
        "# get the positive and negative tweets\n",
        "all_positive_tweets = twitter_samples.strings('positive_tweets.json')\n",
        "all_negative_tweets = twitter_samples.strings('negative_tweets.json')\n",
        "all_tweets = all_positive_tweets + all_negative_tweets"
      ],
      "metadata": {
        "id": "TiqE9hKM3-QG"
      },
      "execution_count": null,
      "outputs": []
    },
    {
      "cell_type": "markdown",
      "source": [
        "### Get document embedding \n",
        "## Bag of words document model \n",
        "* ordering of words can change the meaning of the sentence and it's interpretation and thus the output but it allows us to train the model faster with lesser resources.\n",
        "\n",
        "## Document embeddings \n",
        "* Document embedding is created by summing up the embeddings of all words\n",
        "in the document.\n",
        "* If we don't know the embedding of some word, we can ignore that word.\n",
        "\n",
        "\n",
        "We performed the following steps while creating the document embedding :\n",
        "* The function get_document_embedding() encodes entire document as a \"document\" embedding.\n",
        "* It takes in a docoument (as a string) and a dictionary, en_embeddings.\n",
        "* It processes the document, and looks up the corresponding embedding of each word.\n",
        "* It then sums them up and returns the sum of all word vectors of that processed tweet."
      ],
      "metadata": {
        "id": "F_3SFTOu5I38"
      }
    },
    {
      "cell_type": "code",
      "source": [
        "def get_document_embedding(tweet, en_embeddings): \n",
        "    '''\n",
        "    Input:\n",
        "        - tweet: a string\n",
        "        - en_embeddings: a dictionary of word embeddings\n",
        "    Output:\n",
        "        - doc_embedding: sum of all word embeddings in the tweet\n",
        "    '''\n",
        "    doc_embedding = np.zeros(300)\n",
        "\n",
        "    # process the document into a list of words (process the tweet)\n",
        "    processed_doc = process_tweet(tweet)\n",
        "    \n",
        "    \n",
        "    return doc_embedding"
      ],
      "metadata": {
        "id": "QPsS0J9860al"
      },
      "execution_count": null,
      "outputs": []
    },
    {
      "cell_type": "code",
      "source": [
        "# testing the above function\n",
        "custom_tweet = \"RT @Twitter @chapagain Hello There! Have a great day. :) #good #morning http://chapagain.com.np\"\n",
        "tweet_embedding = get_document_embedding(custom_tweet, en_embeddings_subset)\n",
        "tweet_embedding[-5:]"
      ],
      "metadata": {
        "colab": {
          "base_uri": "https://localhost:8080/"
        },
        "id": "GI54HHLW-VvT",
        "outputId": "9e733665-ce85-4eef-8967-9e2efe66a40d"
      },
      "execution_count": null,
      "outputs": [
        {
          "output_type": "execute_result",
          "data": {
            "text/plain": [
              "array([0., 0., 0., 0., 0.])"
            ]
          },
          "metadata": {},
          "execution_count": 15
        }
      ]
    },
    {
      "cell_type": "markdown",
      "source": [
        "### Store All the document embedings in a Dictionary \n"
      ],
      "metadata": {
        "id": "pdAah1OtLDW9"
      }
    },
    {
      "cell_type": "code",
      "source": [
        "def get_document_vecs(all_docs, en_embeddings):\n",
        "    '''\n",
        "    Input:\n",
        "        - all_docs: list of strings - all tweets in our dataset.\n",
        "        - en_embeddings: dictionary with words as the keys and their embeddings as the values.\n",
        "    Output:\n",
        "        - document_vec_matrix: matrix of tweet embeddings.\n",
        "        - ind2Doc_dict: dictionary with indices of tweets in vecs as keys and their embeddings as the values.\n",
        "    '''\n",
        "\n",
        "    # the dictionary's key is an index (integer) that identifies a specific tweet\n",
        "    # the value is the document embedding for that document\n",
        "    ind2Doc_dict = {}\n",
        "\n",
        "    # this is list that will store the document vectors\n",
        "    document_vec_l = []\n",
        "\n",
        "    for i, doc in enumerate(all_docs):\n",
        "\n",
        "        # get the document embedding of the tweet\n",
        "        doc_embedding = get_document_embedding(doc, en_embeddings)\n",
        "\n",
        "        # save the document embedding into the ind2Tweet dictionary at index i\n",
        "        ind2Doc_dict[i] = doc_embedding\n",
        "\n",
        "        # append the document embedding to the list of document vectors\n",
        "        document_vec_l.append(doc_embedding)\n",
        "\n",
        "        ### END CODE HERE ###\n",
        "\n",
        "    # convert the list of document vectors into a 2D array (each row is a document vector)\n",
        "    document_vec_matrix = np.vstack(document_vec_l)\n",
        "\n",
        "    return document_vec_matrix, ind2Doc_dict"
      ],
      "metadata": {
        "id": "V9oyubxWLA7W"
      },
      "execution_count": null,
      "outputs": []
    },
    {
      "cell_type": "code",
      "source": [
        "document_vecs, ind2Tweet = get_document_vecs(all_tweets, en_embeddings_subset)"
      ],
      "metadata": {
        "id": "rcaepQJrMQPN"
      },
      "execution_count": null,
      "outputs": []
    },
    {
      "cell_type": "code",
      "source": [
        "print(f\"length of dictionary {len(ind2Tweet)}\")\n",
        "print(f\"shape of document_vecs {document_vecs.shape}\")"
      ],
      "metadata": {
        "colab": {
          "base_uri": "https://localhost:8080/"
        },
        "id": "BRAdgX8MMiJN",
        "outputId": "7d2da5b8-9fd4-4d09-c957-f2ec05d7d0c0"
      },
      "execution_count": null,
      "outputs": [
        {
          "output_type": "stream",
          "name": "stdout",
          "text": [
            "length of dictionary 10000\n",
            "shape of document_vecs (10000, 300)\n"
          ]
        }
      ]
    },
    {
      "cell_type": "markdown",
      "source": [
        "### Looking up the tweets\n",
        "Now you have a vector of dimension (m,d) where m is the number of tweets (10,000) and d is the dimension of the embeddings (300). Now you will input a tweet, and use cosine similarity to see which tweet in our corpus is similar to your tweet."
      ],
      "metadata": {
        "id": "WwswOV8FMqkM"
      }
    },
    {
      "cell_type": "code",
      "source": [
        "my_tweet = 'i am sad'\n",
        "process_tweet(my_tweet)\n",
        "tweet_embedding = get_document_embedding(my_tweet, en_embeddings_subset)"
      ],
      "metadata": {
        "id": "hhlWcpjfNVvU"
      },
      "execution_count": null,
      "outputs": []
    },
    {
      "cell_type": "code",
      "source": [
        "idx = np.argmax(cosine_similarity(document_vecs, tweet_embedding))\n",
        "print(all_tweets[idx])"
      ],
      "metadata": {
        "colab": {
          "base_uri": "https://localhost:8080/"
        },
        "id": "qY5dAiv4Nrod",
        "outputId": "a0aae502-5652-4c2a-87ce-77ff39cc71f3"
      },
      "execution_count": null,
      "outputs": [
        {
          "output_type": "stream",
          "name": "stdout",
          "text": [
            "#FollowFriday @France_Inte @PKuchly57 @Milipol_Paris for being top engaged members in my community this week :)\n"
          ]
        },
        {
          "output_type": "stream",
          "name": "stderr",
          "text": [
            "<ipython-input-4-14e052b32d22>:67: RuntimeWarning: invalid value encountered in true_divide\n",
            "  cos = dot / (norma * normb)\n"
          ]
        }
      ]
    },
    {
      "cell_type": "code",
      "source": [
        "N_VECS = len(all_tweets)       # This many vectors.\n",
        "N_DIMS = len(ind2Tweet[1])     # Vector dimensionality.\n",
        "print(f\"Number of vectors is {N_VECS} and each has {N_DIMS} dimensions.\")"
      ],
      "metadata": {
        "colab": {
          "base_uri": "https://localhost:8080/"
        },
        "id": "7UgqTcZ6dwwT",
        "outputId": "e68579a4-625a-4089-d819-a1c10139a992"
      },
      "execution_count": null,
      "outputs": [
        {
          "output_type": "stream",
          "name": "stdout",
          "text": [
            "Number of vectors is 10000 and each has 300 dimensions.\n"
          ]
        }
      ]
    },
    {
      "cell_type": "markdown",
      "source": [
        "### Implement Locality Sensitive Hashing to find the most similar tweets"
      ],
      "metadata": {
        "id": "94MnNA9ZPU-b"
      }
    },
    {
      "cell_type": "markdown",
      "source": [
        "## Choosing the number of planes \n",
        "* Each plane divides the space into 2 parts.\n",
        "* Thus n planes would divide the space into 2^n parts.\n",
        "* We want to organize 10,000 document vectors into buckets so that every bucket has about 16 vectors.\n",
        "* For that we need 10000/16 = 625 buckets.\n",
        "* We're interested in n the number of planes so that 2^n = 625"
      ],
      "metadata": {
        "id": "uIDH6v6nPzD0"
      }
    },
    {
      "cell_type": "code",
      "source": [
        "# The number of planes. We use log2(625) to have ~16 vectors/bucket.\n",
        "N_PLANES = 10\n",
        "# Number of times to repeat the hashing to improve the search.\n",
        "N_UNIVERSES = 25"
      ],
      "metadata": {
        "id": "6WkCSlpfZ8SR"
      },
      "execution_count": null,
      "outputs": []
    },
    {
      "cell_type": "markdown",
      "source": [
        "## Getting the Hash number of a vector \n",
        "Each vector needs to be assigned a unique number to segment in one of the buckets.\n",
        "\n",
        "## Properties of HyperPlane in a space \n",
        "\n",
        "* In 3 dimensional vector space the hyperplane is a plane but in the 2 dimensional space the hyperplane is a line.\n",
        "* Generally, the hyperplane is subspace which has dimension 1 lower than the original vector space has.\n",
        "* Hyperplane is determined by the normal vector.\n",
        "* A normal vector n of the plane p is the vector to which all the vectors in the plane p are orthogonal.\n",
        "\n",
        "## Using Hyperspace to split the planes \n",
        "*  All vectors with >0 dot product with the normal vector would lie on one side of the plane while the rest would lie on other side of the plane.\n",
        "\n",
        "\n",
        "## Encoding the Hash bucket \n",
        "* First take the dot product with each plane , than use this information to generate a unique ID for the vector.\n",
        "* We need to determine a function which would restrict collision of ID from different set of dot product planes .\n",
        "* Thus we would use sum(2^i) function where i =1 when the dot product of the vector with the plane = 1 else it is not taken in the ID value.\n",
        "\n",
        "![image.png](data:image/png;base64,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)\n",
        "\n"
      ],
      "metadata": {
        "id": "TQBL6J-xaBgP"
      }
    },
    {
      "cell_type": "code",
      "source": [
        "# Dividing the vector space into different planes .\n",
        "\n",
        "np.random.seed(0)\n",
        "planes_l = [np.random.normal(size=(N_DIMS, N_PLANES))\n",
        "            for _ in range(N_UNIVERSES)]"
      ],
      "metadata": {
        "id": "iSAZ_oXpdWR8"
      },
      "execution_count": null,
      "outputs": []
    },
    {
      "cell_type": "code",
      "source": [
        "def hash_value_of_vector(v, planes):\n",
        "    \"\"\"Create a hash for a vector; hash_id says which random hash to use.\n",
        "    Input:\n",
        "        - v:  vector of tweet. It's dimension is (1, N_DIMS)\n",
        "        - planes: matrix of dimension (N_DIMS, N_PLANES) - the set of planes that divide up the region\n",
        "    Output:\n",
        "        - res: a number which is used as a hash for your vector\n",
        "\n",
        "    \"\"\"\n",
        "   \n",
        "    # for the set of planes,\n",
        "    # calculate the dot product between the vector and the matrix containing the planes\n",
        "    # remember that planes has shape (300, 10)\n",
        "    # The dot product will have the shape (1,10)\n",
        "    dot_product = np.dot(v,planes)\n",
        "\n",
        "    # get the sign of the dot product (1,10) shaped vector\n",
        "    sign_of_dot_product = np.sign(dot_product)\n",
        "\n",
        "    # set h to be false (eqivalent to 0 when used in operations) if the sign is negative,\n",
        "    # and true (equivalent to 1) if the sign is positive (1,10) shaped vector\n",
        "    h = sign_of_dot_product >= 0\n",
        "\n",
        "    # remove extra un-used dimensions (convert this from a 2D to a 1D array)\n",
        "    h = np.squeeze(h)\n",
        "\n",
        "    # initialize the hash value to 0\n",
        "    hash_value = 0\n",
        "\n",
        "    n_planes = planes.shape[1]\n",
        "    for i in range(n_planes):\n",
        "        # increment the hash value by 2^i * h_i\n",
        "        hash_value += np.power(2,i) * h[i]\n",
        "   \n",
        "\n",
        "    # cast hash_value as an integer\n",
        "    hash_value = int(hash_value)\n",
        "\n",
        "    return hash_value"
      ],
      "metadata": {
        "id": "d00xDnzTe4dL"
      },
      "execution_count": null,
      "outputs": []
    },
    {
      "cell_type": "code",
      "source": [
        "np.random.seed(0)\n",
        "idx = 0\n",
        "planes = planes_l[idx]  # get one 'universe' of planes to test the function\n",
        "vec = np.random.rand(1, 300)\n",
        "print(f\" The hash value for this vector,\",\n",
        "      f\"and the set of planes at index {idx},\",\n",
        "      f\"is {hash_value_of_vector(vec, planes)}\")"
      ],
      "metadata": {
        "colab": {
          "base_uri": "https://localhost:8080/"
        },
        "id": "rBta_sStj7MJ",
        "outputId": "d905063e-d5d6-4090-b978-db0d4967ed56"
      },
      "execution_count": null,
      "outputs": [
        {
          "output_type": "stream",
          "name": "stdout",
          "text": [
            " The hash value for this vector, and the set of planes at index 0, is 768\n"
          ]
        }
      ]
    },
    {
      "cell_type": "markdown",
      "source": [
        "## Creating a Hash table\n",
        "\n",
        "* We can create a Hash table such that given a Hash ID we can quickly find the corresponding vectors . \n",
        "* Now we would create a Hash_table to store similar vectors together and id_table to map which vectors corresponds to what tweets .\n"
      ],
      "metadata": {
        "id": "cIfFprZhlSBg"
      }
    },
    {
      "cell_type": "code",
      "source": [
        "def make_hash_table(vecs, planes):\n",
        "    \"\"\"\n",
        "    Input:\n",
        "        - vecs: list of vectors to be hashed.\n",
        "        - planes: the matrix of planes in a single \"universe\", with shape (embedding dimensions, number of planes).\n",
        "    Output:\n",
        "        - hash_table: dictionary - keys are hashes, values are lists of vectors (hash buckets)\n",
        "        - id_table: dictionary - keys are hashes, values are list of vectors id's\n",
        "                            (it's used to know which tweet corresponds to the hashed vector)\n",
        "    \"\"\"\n",
        "    ### START CODE HERE (REPLACE INSTANCES OF 'None' with your code) ###\n",
        "\n",
        "    # number of planes is the number of columns in the planes matrix\n",
        "    num_of_planes = planes.shape[1]\n",
        "\n",
        "    # number of buckets is 2^(number of planes)\n",
        "    num_buckets = np.power(2,num_of_planes)\n",
        "\n",
        "    # create the hash table as a dictionary.\n",
        "    # Keys are integers (0,1,2.. number of buckets)\n",
        "    # Values are empty lists\n",
        "    hash_table = dict({i:[] for i in range(num_buckets)})\n",
        "\n",
        "    # create the id table as a dictionary.\n",
        "    # Keys are integers (0,1,2... number of buckets)\n",
        "    # Values are empty lists\n",
        "    id_table = dict({i:[] for i in range(num_buckets)})\n",
        "\n",
        "    # for each vector in 'vecs'\n",
        "    for i, v in enumerate(vecs):\n",
        "        # calculate the hash value for the vector\n",
        "        h = hash_value_of_vector(v, planes)\n",
        "\n",
        "        # store the vector into hash_table at key h,\n",
        "        # by appending the vector v to the list at key h\n",
        "        hash_table[h].append(v)\n",
        "\n",
        "        # store the vector's index 'i' (each document is given a unique integer 0,1,2...)\n",
        "        # the key is the h, and the 'i' is appended to the list at key h\n",
        "        id_table[h].append(i)\n",
        "\n",
        "    ### END CODE HERE ###\n",
        "\n",
        "    return hash_table, id_table"
      ],
      "metadata": {
        "id": "i9yvon9Jk-_o"
      },
      "execution_count": null,
      "outputs": []
    },
    {
      "cell_type": "code",
      "source": [
        "# Testing the function\n",
        "np.random.seed(0)\n",
        "planes = planes_l[0]  # get one 'universe' of planes to test the function\n",
        "vec = np.random.rand(1, 300)\n",
        "tmp_hash_table, tmp_id_table = make_hash_table(document_vecs, planes)\n",
        "\n",
        "print(f\"The hash table at key 0 has {len(tmp_hash_table[0])} document vectors\")\n",
        "print(f\"The id table at key 0 has {len(tmp_id_table[0])}\")\n",
        "print(f\"The first 5 document indices stored at key 0 of are {tmp_id_table[0][0:5]}\")"
      ],
      "metadata": {
        "colab": {
          "base_uri": "https://localhost:8080/"
        },
        "id": "xr2pYAa2v68E",
        "outputId": "409bc12a-77e2-43a0-f4d6-a04b59a1f10f"
      },
      "execution_count": null,
      "outputs": [
        {
          "output_type": "stream",
          "name": "stdout",
          "text": [
            "The hash table at key 0 has 0 document vectors\n",
            "The id table at key 0 has 0\n",
            "The first 5 document indices stored at key 0 of are []\n"
          ]
        }
      ]
    },
    {
      "cell_type": "markdown",
      "source": [
        "## Approximate KNN with LSH \n",
        "Implement approximate K nearest neighbors using locality sensitive hashing, to search for documents that are similar to a given document at the index doc_id\n",
        "\n"
      ],
      "metadata": {
        "id": "IXaIt_I62Ghh"
      }
    },
    {
      "cell_type": "code",
      "source": [
        "def approximate_knn(doc_id, v, planes_l, k=1, num_universes_to_use=N_UNIVERSES):\n",
        "    \"\"\"Search for k-NN using hashes.\"\"\"\n",
        "    assert num_universes_to_use <= N_UNIVERSES\n",
        "\n",
        "    # Vectors that will be checked as possible nearest neighbor\n",
        "    vecs_to_consider_l = list()\n",
        "\n",
        "    # list of document IDs\n",
        "    ids_to_consider_l = list()\n",
        "\n",
        "    # create a set for ids to consider, for faster checking if a document ID already exists in the set\n",
        "    ids_to_consider_set = set()\n",
        "\n",
        "    # loop through the universes of planes\n",
        "    for universe_id in range(num_universes_to_use):\n",
        "\n",
        "        # get the set of planes from the planes_l list, for this particular universe_id\n",
        "        planes = planes_l[universe_id]\n",
        "\n",
        "        # get the hash value of the vector for this set of planes\n",
        "        hash_value = hash_value_of_vector(v, planes)\n",
        "\n",
        "        # get the hash table for this particular universe_id\n",
        "        hash_table = hash_tables[universe_id]\n",
        "\n",
        "        # get the list of document vectors for this hash table, where the key is the hash_value\n",
        "        document_vectors_l = hash_table[hash_value]\n",
        "\n",
        "        # get the id_table for this particular universe_id\n",
        "        id_table = id_tables[universe_id]\n",
        "\n",
        "        # get the subset of documents to consider as nearest neighbors from this id_table dictionary\n",
        "        new_ids_to_consider = id_table[hash_value]\n",
        "\n",
        "        ### START CODE HERE (REPLACE INSTANCES OF 'None' with your code) ###\n",
        "\n",
        "        # remove the id of the document that we're searching\n",
        "        if doc_id in new_ids_to_consider:\n",
        "            new_ids_to_consider.remove(doc_id)\n",
        "            print(f\"removed doc_id {doc_id} of input vector from new_ids_to_search\")\n",
        "\n",
        "        # loop through the subset of document vectors to consider\n",
        "        for i, new_id in enumerate(new_ids_to_consider):\n",
        "\n",
        "            # if the document ID is not yet in the set ids_to_consider...\n",
        "            if new_id not in ids_to_consider_set:\n",
        "                # access document_vectors_l list at index i to get the embedding\n",
        "                # then append it to the list of vectors to consider as possible nearest neighbors\n",
        "                document_vector_at_i = document_vectors_l[i]\n",
        "\n",
        "                # append the new_id (the index for the document) to the list of ids to consider\n",
        "                vecs_to_consider_l.append(document_vector_at_i)\n",
        "                ids_to_consider_l.append(new_id)\n",
        "\n",
        "                # also add the new_id to the set of ids to consider\n",
        "                # (use this to check if new_id is not already in the IDs to consider)\n",
        "                ids_to_consider_set.add(new_id)\n",
        "\n",
        "        ### END CODE HERE ###\n",
        "\n",
        "    # Now run k-NN on the smaller set of vecs-to-consider.\n",
        "    print(\"Fast considering %d vecs\" % len(vecs_to_consider_l))\n",
        "\n",
        "    # convert the vecs to consider set to a list, then to a numpy array\n",
        "    vecs_to_consider_arr = np.array(vecs_to_consider_l)\n",
        "\n",
        "    # call nearest neighbors on the reduced list of candidate vectors\n",
        "    nearest_neighbor_idx_l = nearest_neighbor(v, vecs_to_consider_arr, k=k)\n",
        "\n",
        "    # Use the nearest neighbor index list as indices into the ids to consider\n",
        "    # create a list of nearest neighbors by the document ids\n",
        "    nearest_neighbor_ids = [ids_to_consider_l[idx]\n",
        "                            for idx in nearest_neighbor_idx_l]\n",
        "\n",
        "    return nearest_neighbor_ids"
      ],
      "metadata": {
        "id": "7dNpbWid3SIZ"
      },
      "execution_count": null,
      "outputs": []
    },
    {
      "cell_type": "code",
      "source": [
        "doc_id = 0\n",
        "doc_to_search = all_tweets[doc_id]\n",
        "vec_to_search = document_vecs[doc_id]\n",
        "nearest_neighbor_ids = approximate_knn(\n",
        "    doc_id, vec_to_search, planes_l, k=3, num_universes_to_use=5)"
      ],
      "metadata": {
        "id": "uyUe2Qxq5PVZ",
        "outputId": "5f55f16b-9f6c-4aa6-a7fe-8e2d91ec7edf",
        "colab": {
          "base_uri": "https://localhost:8080/",
          "height": 353
        }
      },
      "execution_count": null,
      "outputs": [
        {
          "output_type": "error",
          "ename": "NameError",
          "evalue": "ignored",
          "traceback": [
            "\u001b[0;31m---------------------------------------------------------------------------\u001b[0m",
            "\u001b[0;31mNameError\u001b[0m                                 Traceback (most recent call last)",
            "\u001b[0;32m<ipython-input-50-d91e89be2b87>\u001b[0m in \u001b[0;36m<module>\u001b[0;34m\u001b[0m\n\u001b[1;32m      2\u001b[0m \u001b[0mdoc_to_search\u001b[0m \u001b[0;34m=\u001b[0m \u001b[0mall_tweets\u001b[0m\u001b[0;34m[\u001b[0m\u001b[0mdoc_id\u001b[0m\u001b[0;34m]\u001b[0m\u001b[0;34m\u001b[0m\u001b[0;34m\u001b[0m\u001b[0m\n\u001b[1;32m      3\u001b[0m \u001b[0mvec_to_search\u001b[0m \u001b[0;34m=\u001b[0m \u001b[0mdocument_vecs\u001b[0m\u001b[0;34m[\u001b[0m\u001b[0mdoc_id\u001b[0m\u001b[0;34m]\u001b[0m\u001b[0;34m\u001b[0m\u001b[0;34m\u001b[0m\u001b[0m\n\u001b[0;32m----> 4\u001b[0;31m nearest_neighbor_ids = approximate_knn(\n\u001b[0m\u001b[1;32m      5\u001b[0m     doc_id, vec_to_search, planes_l, k=3, num_universes_to_use=5)\n",
            "\u001b[0;32m<ipython-input-48-6fc064b4d44a>\u001b[0m in \u001b[0;36mapproximate_knn\u001b[0;34m(doc_id, v, planes_l, k, num_universes_to_use)\u001b[0m\n\u001b[1;32m     22\u001b[0m \u001b[0;34m\u001b[0m\u001b[0m\n\u001b[1;32m     23\u001b[0m         \u001b[0;31m# get the hash table for this particular universe_id\u001b[0m\u001b[0;34m\u001b[0m\u001b[0;34m\u001b[0m\u001b[0;34m\u001b[0m\u001b[0m\n\u001b[0;32m---> 24\u001b[0;31m         \u001b[0mhash_table\u001b[0m \u001b[0;34m=\u001b[0m \u001b[0mhash_tables\u001b[0m\u001b[0;34m[\u001b[0m\u001b[0muniverse_id\u001b[0m\u001b[0;34m]\u001b[0m\u001b[0;34m\u001b[0m\u001b[0;34m\u001b[0m\u001b[0m\n\u001b[0m\u001b[1;32m     25\u001b[0m \u001b[0;34m\u001b[0m\u001b[0m\n\u001b[1;32m     26\u001b[0m         \u001b[0;31m# get the list of document vectors for this hash table, where the key is the hash_value\u001b[0m\u001b[0;34m\u001b[0m\u001b[0;34m\u001b[0m\u001b[0;34m\u001b[0m\u001b[0m\n",
            "\u001b[0;31mNameError\u001b[0m: name 'hash_tables' is not defined"
          ]
        }
      ]
    }
  ]
}